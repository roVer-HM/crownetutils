{
 "cells": [
  {
   "cell_type": "code",
   "execution_count": null,
   "metadata": {
    "pycharm": {
     "is_executing": false
    }
   },
   "outputs": [],
   "source": [
    "import os\n",
    "import sys\n",
    "curr_path = os.path.abspath('.')\n",
    "if curr_path.endswith(\"crownetutils/tutorials\"):\n",
    "    sys.path.append(os.path.split(curr_path)[0])\n",
    "\n",
    "# default imports\n",
    "import numpy as np\n",
    "import pandas as pd\n",
    "import matplotlib\n",
    "import matplotlib.pyplot\n",
    "\n",
    "# interactive plots\n",
    "from ipywidgets import interact, interactive, fixed, interact_manual\n",
    "import ipywidgets as widgets\n",
    "\n",
    "# rover analyzer \n",
    "from crownetutils.oppanalyzer.dcd import DcdMap2D\n",
    "from crownetutils.uitls.path import ResultPath"
   ]
  },
  {
   "cell_type": "code",
   "execution_count": null,
   "metadata": {
    "pycharm": {
     "is_executing": false,
     "name": "#%%\n"
    }
   },
   "outputs": [],
   "source": [
    "simulation = \"mucFreiNetdLTE2dMulticast\"\n",
    "run_name = \"vadere00_geo_20201026-15:39:19\"\n",
    "p = ResultPath.create(simulation, run_name)\n",
    "scenario_path = p.scenario_path\n",
    "global_map_path = p.join(\"global.csv\") # path global map\n",
    "node_map_paths = p.glob(\"0a:*.csv\") # path to all (local) maps for each node\n",
    "\n",
    "dcd = DcdMap2D.from_paths(global_data=global_map_path,\n",
    "                          node_data=node_map_paths,\n",
    "                          real_coords=True,\n",
    "                          scenario_plotter=scenario_path)"
   ]
  },
  {
   "cell_type": "code",
   "execution_count": null,
   "metadata": {},
   "outputs": [],
   "source": [
    "dcd.raw2d.index.get_level_values(\"simtime\").unique().to_list"
   ]
  },
  {
   "cell_type": "code",
   "execution_count": null,
   "metadata": {
    "pycharm": {
     "is_executing": false,
     "name": "#%%\n"
    }
   },
   "outputs": [],
   "source": [
    "dcd.plot_annotated_location(12.0)"
   ]
  }
 ],
 "metadata": {
  "kernelspec": {
   "display_name": "Python 3",
   "language": "python",
   "name": "python3"
  },
  "language_info": {
   "codemirror_mode": {
    "name": "ipython",
    "version": 3
   },
   "file_extension": ".py",
   "mimetype": "text/x-python",
   "name": "python",
   "nbconvert_exporter": "python",
   "pygments_lexer": "ipython3",
   "version": "3.8.0"
  },
  "pycharm": {
   "stem_cell": {
    "cell_type": "raw",
    "metadata": {
     "collapsed": false
    },
    "source": []
   }
  }
 },
 "nbformat": 4,
 "nbformat_minor": 1
}
