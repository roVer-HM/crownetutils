{
 "cells": [
  {
   "cell_type": "code",
   "execution_count": null,
   "metadata": {},
   "outputs": [],
   "source": [
    "import pandas as pd\n",
    "import numpy as np\n",
    "import matplotlib.pyplot as plt\n",
    "from pandas import IndexSlice as I\n",
    "import os\n",
    "\n",
    "import roveranalyzer.simulators.opp as O\n",
    "import roveranalyzer.simulators.crownet.dcd as Dmap\n",
    "from roveranalyzer.simulators.crownet.dcd.util import remove_not_selected_cells\n",
    "from roveranalyzer.simulators.opp.provider.hdf.DcdMapProvider import DcdMapProvider\n",
    "\n",
    "run = \"\"\n",
    "sim = \"\"\n",
    "data_root = f\"{os.environ['HOME']}/repos/crownet/crownet/simulations/{sim}/results/{run}\"\n",
    "hdf_file = \"data.h5\"\n",
    "\n",
    "b = Dmap.DcdHdfBuilder.get(hdf_file, data_root)\n",
    "\n",
    "sql = O.CrownetSql(\n",
    "    vec_path=f\"{data_root}/final-#0.vec\", \n",
    "    sca_path=f\"{data_root}/final-#0.sca\", \n",
    "    network=\"TestStationaryWorld\")"
   ]
  },
  {
   "cell_type": "code",
   "execution_count": null,
   "metadata": {},
   "outputs": [],
   "source": [
    "# rebuild HDF file \n",
    "os.remove(os.path.join(data_root, hdf_file))\n",
    "dcd_data = b.build()"
   ]
  },
  {
   "cell_type": "code",
   "execution_count": null,
   "metadata": {},
   "outputs": [],
   "source": [
    "# create builder\n",
    "dcd_data = b.build()\n",
    "b."
   ]
  }
 ],
 "metadata": {
  "interpreter": {
   "hash": "cd6163b5a6953ae76c1cf6bb03b97b5e159a14a076c113e729f25fa3046f3d65"
  },
  "kernelspec": {
   "display_name": "Python 3.8.10 64-bit ('analysis_env': venv)",
   "name": "python3"
  },
  "language_info": {
   "name": "python",
   "version": "3.8.10"
  }
 },
 "nbformat": 4,
 "nbformat_minor": 2
}
