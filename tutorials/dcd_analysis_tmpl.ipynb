{
 "cells": [
  {
   "cell_type": "code",
   "execution_count": null,
   "metadata": {},
   "outputs": [],
   "source": [
    "import pandas as pd\n",
    "import numpy as np\n",
    "import matplotlib.pyplot as plt\n",
    "from pandas import IndexSlice as I\n",
    "import os\n",
    "\n",
    "import crownetutils.omnetpp.scave as O\n",
    "from crownetutils.analysis.dpmm.builder import DpmmHdfBuilder\n",
    "\n",
    "run = \"\"\n",
    "sim = \"\"\n",
    "data_root = f\"{os.environ['HOME']}/repos/crownet/crownet/simulations/{sim}/results/{run}\"\n",
    "hdf_file = \"data.h5\"\n",
    "\n",
    "b = DpmmHdfBuilder.get(hdf_file, data_root)\n",
    "\n",
    "sql = O.CrownetSql(\n",
    "    vec_path=f\"{data_root}/final-#0.vec\", \n",
    "    sca_path=f\"{data_root}/final-#0.sca\", \n",
    "    network=\"TestStationaryWorld\")"
   ]
  },
  {
   "cell_type": "code",
   "execution_count": null,
   "metadata": {},
   "outputs": [],
   "source": [
    "# rebuild HDF file \n",
    "os.remove(os.path.join(data_root, hdf_file))\n",
    "dcd_data = b.build()"
   ]
  },
  {
   "cell_type": "code",
   "execution_count": null,
   "metadata": {},
   "outputs": [],
   "source": [
    "# create builder\n",
    "dcd_data = b.build()"
   ]
  }
 ],
 "metadata": {
  "kernelspec": {
   "display_name": "crownet_edit",
   "language": "python",
   "name": "python3"
  },
  "language_info": {
   "name": "python",
   "version": "3.8.10"
  },
  "vscode": {
   "interpreter": {
    "hash": "cbf7d49e2d4e8675513371856e7d7c6228b3ef3a997e2c6c083f498b31985db0"
   }
  }
 },
 "nbformat": 4,
 "nbformat_minor": 2
}
