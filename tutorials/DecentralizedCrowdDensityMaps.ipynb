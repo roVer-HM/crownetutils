{
 "cells": [
  {
   "cell_type": "markdown",
   "metadata": {
    "pycharm": {
     "name": "#%% md\n"
    }
   },
   "source": [
    "# Decentralized Crowd Density (DCD) Maps\n",
    "\n",
    "First draft of DCD analysis.\n",
    "\n",
    "## Export structure from OMNeT++\n",
    "\n",
    "* Each node creates a single file with the map state for each time step\n",
    "* Global DCD module creates a separate file for the groud \n",
    "  truth of the simulation\n",
    "* todo: write all *node-data* into single file.\n",
    "\n",
    "### Node map file structure\n",
    "\n",
    "* only not null values\n",
    "* first line with `#` contains meta data used for processing in python\n",
    "* NODE_ID=0a:aa:00:00:00:02 (mac address)\n",
    "* compound key: [simtime, x, y]\n",
    "* values:\n",
    "  * _count_: number of nodes in given cell\n",
    "  * _measured_t_:   time when count was measured (does not need to be the given node)\n",
    "  * _received_t_:   time when that measurement was received. If the given node measured the \n",
    "                    value itself `received_t` and `simtime` are equal!\n",
    "  * _source_:       NODE_ID which created the measurement\n",
    "  * _own_cell_:     If `1` the cell with [x,y] of this row is the current location of the node.\n",
    "                    Example. node_0a:aa:00:00:00:02 is in cell [66,75] at time 2.0 sec\n",
    "\n",
    "```\n",
    "#CELLSIZE=3.000000,DATACOL=-1,IDXCOL=3,NODE_ID=0a:aa:00:00:00:02,SEP=;,XSIZE=281.135000,YSIZE=233.492000\n",
    "simtime;x;y;count;measured_t;received_t;source;own_cell\n",
    "2;5;46;1;2;2;0a:aa:00:00:00:02;0\n",
    "2;24;73;1;2;2;0a:aa:00:00:00:02;0\n",
    "2;25;73;1;2;2;0a:aa:00:00:00:02;0\n",
    "2;66;75;1;2;2;0a:aa:00:00:00:02;1\n",
    "4;5;46;1;4;4;0a:aa:00:00:00:02;0\n",
    "```\n",
    "\n",
    "### Global map file structure\n",
    "\n",
    "* same meta data in first line starting with `#`\n",
    "* values:\n",
    "  * same as node map file\n",
    "  * _node_id_:  String list of node_id's contained in the given cell [x,y]. The list is separated by `,` and \n",
    "                not by `;` as indicated by `SEP` in the metadata. This column will be normalized later \n",
    "                during python processing. \n",
    "\n",
    "```\n",
    "#CELLSIZE=3.000000,DATACOL=-1,IDXCOL=3,SEP=;,NODE_ID=global,XSIZE=281.135000,YSIZE=233.492000\n",
    "simtime;x;y;count;measured_t;received_t;source;own_cell;node_id\n",
    "2;4;46;1;2;2;global;0;0a:aa:00:00:00:08\n",
    "2;5;46;1;2;2;global;0;0a:aa:00:00:00:04\n",
    "2;23;72;1;2;2;global;0;0a:aa:00:00:00:03\n",
    "2;24;73;1;2;2;global;0;0a:aa:00:00:00:06\n",
    "...\n",
    "4;5;47;2;4;4;global;0;0a:aa:00:00:00:04,0a:aa:00:00:00:08\n",
    "```\n",
    "\n",
    "## First analysis\n",
    "\n",
    "Class structure and placement in roveranalyzer is not fixed yet."
   ]
  },
  {
   "cell_type": "code",
   "execution_count": null,
   "metadata": {
    "pycharm": {
     "is_executing": false,
     "name": "#%%\n"
    }
   },
   "outputs": [],
   "source": [
    "import matplotlib\n",
    "import matplotlib.pyplot as plt\n",
    "import numpy as np\n",
    "import pandas as pd\n",
    "\n",
    "from roveranalyzer.oppanalyzer.dcd import (\n",
    "    DcdMap2D,\n",
    "    DcdMetaData,\n",
    "    build_global_density_map,\n",
    "    build_local_density_map,\n",
    ")\n",
    "\n",
    "from roveranalyzer.uitls.path import PathHelper\n",
    "from roveranalyzer.vadereanalyzer.plots.scenario import VaderScenarioPlotHelper\n",
    "\n",
    "# base paths for example\n",
    "\n",
    "scenario_path = PathHelper.rover_sim(\n",
    "        \"mucFreiNetdLTE2dMulticast/\",\n",
    "        \"vadere00_geo_20201012_2/vadere.d/mf_2peds.scenario\",\n",
    "    ).abs_path()\n",
    "\n",
    "\n",
    "node_paths = [\n",
    "    \"0a:aa:00:00:00:02\",\n",
    "    \"0a:aa:00:00:00:03\",\n",
    "    \"0a:aa:00:00:00:04\",\n",
    "    \"0a:aa:00:00:00:05\",\n",
    "    \"0a:aa:00:00:00:06\",\n",
    "    \"0a:aa:00:00:00:07\",\n",
    "    \"0a:aa:00:00:00:08\",\n",
    "]\n",
    "\n",
    "global_path = PathHelper.rover_sim(\n",
    "        \"mucFreiNetdLTE2dMulticast/\", \"vadere00_geo_20201012_2/global.csv\",\n",
    "    ).abs_path()"
   ]
  },
  {
   "cell_type": "markdown",
   "metadata": {
    "pycharm": {
     "name": "#%% md\n"
    }
   },
   "source": [
    "* create `VadereScenarioPlotHelper` to add obstacles to map plots. \n",
    "* Read csv files into simple pandas.DataFrames (set multiIndex)\n",
    "  * real_coord=True --> translates cell ids such as [3,5] to the correct values. (e.g with cell_size=3.0 --> [9.0, 15.0]\n",
    "  * full_map=False  --> do not create missing cells. They will be created lated if needed."
   ]
  },
  {
   "cell_type": "code",
   "execution_count": null,
   "metadata": {
    "pycharm": {
     "is_executing": false,
     "name": "#%%\n"
    }
   },
   "outputs": [],
   "source": [
    "s_plotter =  VaderScenarioPlotHelper(scenario_path)\n",
    "\n",
    "node_data = []\n",
    "for node in node_paths:\n",
    "    path = PathHelper.rover_sim(\n",
    "            \"mucFreiNetdLTE2dMulticast/\", f\"vadere00_geo_20201012_2/{node}.csv\",\n",
    "        ).abs_path()\n",
    "    node_data.append(\n",
    "        build_local_density_map(path, real_coords=True, full_map=False)\n",
    "    )\n",
    "\n",
    "global_data = build_global_density_map(global_path, real_coords=True, with_id_list=True, full_map=False )"
   ]
  },
  {
   "cell_type": "markdown",
   "metadata": {
    "pycharm": {
     "name": "#%% md\n"
    }
   },
   "source": [
    "### build_XXX_density_map \n",
    "\n",
    "* creates meta data object \n",
    "* creates dataFrame"
   ]
  },
  {
   "cell_type": "code",
   "execution_count": null,
   "metadata": {
    "pycharm": {
     "is_executing": false,
     "name": "#%%\n"
    }
   },
   "outputs": [],
   "source": [
    "# metadata object\n",
    "print(global_data[0])\n",
    "print(global_data[0].node_id)"
   ]
  },
  {
   "cell_type": "code",
   "execution_count": null,
   "metadata": {
    "pycharm": {
     "is_executing": false,
     "name": "#%%\n"
    }
   },
   "outputs": [],
   "source": [
    "# pd.DataFrame (Global)\n",
    "print(global_data[1].head(5))\n",
    "\n",
    "#pd.DataFrame (Local)\n",
    "print(node_data[0][0].node_id)\n",
    "print(node_data[0][1].head(5))"
   ]
  },
  {
   "cell_type": "markdown",
   "metadata": {
    "pycharm": {
     "name": "#%% md\n"
    }
   },
   "source": [
    "### DcdMap2D\n",
    "\n",
    "Simple class to combine an manipulate DCD map data:\n",
    "\n",
    "* replace NODE_IDs with integers for easier indexing and slicing\n",
    "* _delay_:    `received_t - measured_t`\n",
    "* _measurement_age_: `simtime - measured_t`\n",
    "* _update_age_: `simtime - received_t`"
   ]
  },
  {
   "cell_type": "code",
   "execution_count": null,
   "metadata": {
    "pycharm": {
     "is_executing": false,
     "name": "#%%\n"
    }
   },
   "outputs": [],
   "source": [
    "dcd = DcdMap2D.from_separated_frames(global_data, node_data)\n",
    "dcd.set_scenario_plotter(s_plotter)\n",
    "\n",
    "#main pd.DataFrame\n",
    "dcd.raw2d.head(5)"
   ]
  },
  {
   "cell_type": "markdown",
   "metadata": {},
   "source": [
    "* descriptive stats over all nodes and cells"
   ]
  },
  {
   "cell_type": "code",
   "execution_count": null,
   "metadata": {
    "pycharm": {
     "is_executing": false,
     "name": "#%%\n"
    }
   },
   "outputs": [],
   "source": [
    "dcd.describe_raw()"
   ]
  },
  {
   "cell_type": "markdown",
   "metadata": {
    "pycharm": {
     "name": "#%% md\n"
    }
   },
   "source": [
    "* descriptive stats only for global map"
   ]
  },
  {
   "cell_type": "code",
   "execution_count": null,
   "metadata": {
    "pycharm": {
     "is_executing": false,
     "name": "#%%\n"
    }
   },
   "outputs": [],
   "source": [
    "dcd.describe_raw(global_only=True)"
   ]
  },
  {
   "cell_type": "markdown",
   "metadata": {
    "pycharm": {
     "name": "#%% md\n"
    }
   },
   "source": [
    "## Simple Plots\n",
    "\n",
    "todo: synchronize color coding!\n",
    "\n",
    "\n",
    "### Node 3(...:04) Plots\n",
    "\n",
    "* plot1: Map seen from Node 3(...:04) GREEN  at [15.0, 141.0] [same place as pink 7(...:08)]\n",
    "* plot2: Node placement taken form global state (ground truth)\n",
    "* plot3: total count of nodes per simtime. \n",
    "  * Blue line is ground truth (7 Nodes)\n",
    "  * Red Node 3(...:04) is the current node.\n",
    "  * 'Old' measures are counted. This is the reason for the growing number of nodes.\n"
   ]
  },
  {
   "cell_type": "code",
   "execution_count": null,
   "metadata": {
    "pycharm": {
     "is_executing": false,
     "name": "#%%\n"
    }
   },
   "outputs": [],
   "source": [
    "p1 = dcd.plot2(4.0, 3, \"(data from all 'ages')\") "
   ]
  },
  {
   "cell_type": "markdown",
   "metadata": {},
   "source": [
    "### Node 3(...:04) Plots at 12.0 second\n",
    "* density shows 'path'\n",
    "* look at Node 6(...:07) brown \n",
    "  * Node 3 has one measurment [84.0, 84.0],\n",
    "  * and 3 additional measurment form Node 2(...:03) orange.\n",
    "   "
   ]
  },
  {
   "cell_type": "code",
   "execution_count": null,
   "metadata": {
    "pycharm": {
     "is_executing": false
    }
   },
   "outputs": [],
   "source": [
    "p2 = dcd.plot2(12.0, 3, \"(data from all 'ages')\")"
   ]
  },
  {
   "cell_type": "code",
   "execution_count": null,
   "metadata": {
    "pycharm": {
     "is_executing": false
    }
   },
   "outputs": [],
   "source": [
    "dcd.raw2d.loc[(3, 12.0),:]"
   ]
  },
  {
   "cell_type": "markdown",
   "metadata": {},
   "source": [
    "### Set threshold for 'age'\n",
    "\n",
    "* less 'path' building\n",
    "* lower spread in plot 3 \n"
   ]
  },
  {
   "cell_type": "code",
   "execution_count": null,
   "metadata": {
    "pycharm": {
     "is_executing": false
    }
   },
   "outputs": [],
   "source": [
    "dcd_age = dcd.with_age(\"measurement_age\", 2.0)\n",
    "p3 = dcd_age.plot2(12.0, 3, title=\"(measurment_age <= 2.0)\")"
   ]
  },
  {
   "cell_type": "code",
   "execution_count": null,
   "metadata": {
    "pycharm": {
     "is_executing": false
    }
   },
   "outputs": [],
   "source": [
    "dcd.foo()"
   ]
  },
  {
   "cell_type": "code",
   "execution_count": null,
   "metadata": {
    "pycharm": {
     "is_executing": false
    }
   },
   "outputs": [],
   "source": [
    "dcd_age.raw2d.loc[(3, 12.0),:]"
   ]
  }
 ],
 "metadata": {
  "kernelspec": {
   "display_name": "Python 3",
   "language": "python",
   "name": "python3"
  },
  "language_info": {
   "codemirror_mode": {
    "name": "ipython",
    "version": 3
   },
   "file_extension": ".py",
   "mimetype": "text/x-python",
   "name": "python",
   "nbconvert_exporter": "python",
   "pygments_lexer": "ipython3",
   "version": "3.8.0"
  },
  "pycharm": {
   "stem_cell": {
    "cell_type": "raw",
    "metadata": {
     "collapsed": false
    },
    "source": []
   }
  }
 },
 "nbformat": 4,
 "nbformat_minor": 1
}
