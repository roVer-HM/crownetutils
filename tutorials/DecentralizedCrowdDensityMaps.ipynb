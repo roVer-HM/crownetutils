{
 "cells": [
  {
   "cell_type": "markdown",
   "metadata": {
    "pycharm": {
     "name": "#%% md\n"
    }
   },
   "source": [
    "# Decentralized Crowd Density (DCD) Maps\n",
    "\n",
    "First draft of DCD analysis.\n",
    "\n",
    "## Export structure from OMNeT++\n",
    "\n",
    "* Each node creates a single file with the map state for each time step\n",
    "* Global DCD module creates a separate file for the groud \n",
    "  truth of the simulation\n",
    "* todo: write all *node-data* into single file.\n",
    "\n",
    "### Node map file structure\n",
    "\n",
    "* only not null values\n",
    "* first line with `#` contains meta data used for processing in python\n",
    "* NODE_ID=0a:aa:00:00:00:02 (mac address)\n",
    "* compound key: [simtime, x, y]\n",
    "* values:\n",
    "  * _count_: number of nodes in given cell\n",
    "  * _measured_t_:   time when count was measured (does not need to be the given node)\n",
    "  * _received_t_:   time when that measurement was received. If the given node measured the \n",
    "                    value itself `received_t` and `simtime` are equal!\n",
    "  * _source_:       NODE_ID which created the measurement\n",
    "  * _own_cell_:     If `1` the cell with [x,y] of this row is the current location of the node.\n",
    "                    Example. node_0a:aa:00:00:00:02 is in cell [66,75] at time 2.0 sec\n",
    "\n",
    "```\n",
    "#CELLSIZE=3.000000,DATACOL=-1,IDXCOL=3,NODE_ID=0a:aa:00:00:00:02,SEP=;,XSIZE=281.135000,YSIZE=233.492000\n",
    "simtime;x;y;count;measured_t;received_t;source;own_cell\n",
    "2;5;46;1;2;2;0a:aa:00:00:00:02;0\n",
    "2;24;73;1;2;2;0a:aa:00:00:00:02;0\n",
    "2;25;73;1;2;2;0a:aa:00:00:00:02;0\n",
    "2;66;75;1;2;2;0a:aa:00:00:00:02;1\n",
    "4;5;46;1;4;4;0a:aa:00:00:00:02;0\n",
    "```\n",
    "\n",
    "### Global map file structure\n",
    "\n",
    "* same meta data in first line starting with `#`\n",
    "* values:\n",
    "  * same as node map file\n",
    "  * _node_id_:  String list of node_id's contained in the given cell [x,y]. The list is separated by `,` and \n",
    "                not by `;` as indicated by `SEP` in the metadata. This column will be normalized later \n",
    "                during python processing. \n",
    "\n",
    "```\n",
    "#CELLSIZE=3.000000,DATACOL=-1,IDXCOL=3,SEP=;,NODE_ID=global,XSIZE=281.135000,YSIZE=233.492000\n",
    "simtime;x;y;count;measured_t;received_t;source;own_cell;node_id\n",
    "2;4;46;1;2;2;global;0;0a:aa:00:00:00:08\n",
    "2;5;46;1;2;2;global;0;0a:aa:00:00:00:04\n",
    "2;23;72;1;2;2;global;0;0a:aa:00:00:00:03\n",
    "2;24;73;1;2;2;global;0;0a:aa:00:00:00:06\n",
    "...\n",
    "4;5;47;2;4;4;global;0;0a:aa:00:00:00:04,0a:aa:00:00:00:08\n",
    "```\n",
    "\n",
    "## First analysis\n",
    "\n",
    "Class structure and placement in crownetutils is not fixed yet."
   ]
  },
  {
   "cell_type": "code",
   "execution_count": null,
   "metadata": {},
   "outputs": [],
   "source": [
    "%matplotlib widget"
   ]
  },
  {
   "cell_type": "code",
   "execution_count": null,
   "metadata": {},
   "outputs": [],
   "source": [
    "import os\n",
    "import sys\n",
    "import matplotlib.pyplot as plt\n",
    "\n",
    "# if file part of repo add repo to import path\n",
    "curr_path = os.path.abspath('.')\n",
    "if curr_path.endswith(\"crownetutils/tutorials\"):\n",
    "    sys.path.append(os.path.split(curr_path)[0])\n",
    "\n",
    "import pandas as pd\n",
    "\n",
    "from crownetutils.oppanalyzer.dcd import (\n",
    "    DcdMap2D, DcdMap2DMulti\n",
    ")\n",
    "\n",
    "from crownetutils.uitls.path import PathHelper\n",
    "from crownetutils.vadereanalyzer.plots.scenario import VaderScenarioPlotHelper\n"
   ]
  },
  {
   "cell_type": "code",
   "execution_count": null,
   "metadata": {
    "pycharm": {
     "is_executing": false,
     "name": "#%%\n"
    }
   },
   "outputs": [],
   "source": [
    "# base paths for example\n",
    "\n",
    "simulation = \"mucFreiNetdLTE2dMulticast\"\n",
    "# run = \"0_vadere00_geo_20201026-ymf_map\"\n",
    "run = \"0_vadere00_geo_20201103-10:32:09_all\"\n",
    "\n",
    "p = PathHelper.rover_sim(simulation, run)\n",
    "\n",
    "scenario_path = p.glob(\"vadere.d/*.scenario\", recursive=False, expect=1)\n",
    "node_paths = p.glob(\"0a:*.csv\")\n",
    "global_path = p.abs_path(\"global.csv\")"
   ]
  },
  {
   "cell_type": "markdown",
   "metadata": {
    "pycharm": {
     "name": "#%% md\n"
    }
   },
   "source": [
    "* create `VadereScenarioPlotHelper` to add obstacles to map plots. \n",
    "* Read csv files into simple pandas.DataFrames (set multiIndex)\n",
    "  * real_coord=True --> translates cell ids such as [3,5] to the correct values. (e.g with cell_size=3.0 --> [9.0, 15.0]\n",
    "  * full_map=False  --> do not create missing cells. They will be created lated if needed."
   ]
  },
  {
   "cell_type": "code",
   "execution_count": null,
   "metadata": {
    "pycharm": {
     "is_executing": false,
     "name": "#%%\n"
    }
   },
   "outputs": [],
   "source": [
    "s_plotter =  VaderScenarioPlotHelper(scenario_path)"
   ]
  },
  {
   "cell_type": "markdown",
   "metadata": {
    "pycharm": {
     "name": "#%% md\n"
    }
   },
   "source": [
    "### DcdMap2D\n",
    "\n",
    "Simple class to combine an manipulate DCD map data:\n",
    "\n",
    "* replace NODE_IDs with integers for easier indexing and slicing\n",
    "* _delay_:    `received_t - measured_t`\n",
    "* _measurement_age_: `simtime - measured_t`\n",
    "* _update_age_: `simtime - received_t`"
   ]
  },
  {
   "cell_type": "code",
   "execution_count": null,
   "metadata": {
    "pycharm": {
     "is_executing": false,
     "name": "#%%\n"
    }
   },
   "outputs": [],
   "source": [
    "# dcd = DcdMap2D.from_paths(global_path, node_paths)\n",
    "dcd = DcdMap2DMulti.from_paths(global_path, node_paths)\n",
    "dcd.set_scenario_plotter(s_plotter)\n",
    "\n",
    "# plot_wrapper to ensure smooth handling for Jupyter notebook.\n",
    "# default plot_wrapper does nothing!\n",
    "def plot_wrapper(func, _self, *args, **kwargs):\n",
    "    # ensure plot is called with some existing Axes. If not create figure with one axis.\n",
    "    if \"ax\" not in kwargs:\n",
    "        print(\"create axes...\")\n",
    "        fig, ax = plt.subplots(1, 1, figsize=(10, 7))\n",
    "        fig.canvas.toolbar_position = 'bottom'\n",
    "        kwargs.setdefault(\"ax\", ax)\n",
    "    \n",
    "    # execute actual plot function\n",
    "    ret = func(_self, *args, **kwargs)\n",
    "    return ret\n",
    "\n",
    "dcd.plot_wrapper = plot_wrapper\n",
    "\n",
    "        \n",
    "\n",
    "#main pd.DataFrame\n",
    "dcd.raw2d.head(5)"
   ]
  },
  {
   "cell_type": "markdown",
   "metadata": {},
   "source": [
    "* descriptive stats over all nodes and cells"
   ]
  },
  {
   "cell_type": "code",
   "execution_count": null,
   "metadata": {
    "pycharm": {
     "is_executing": false,
     "name": "#%%\n"
    }
   },
   "outputs": [],
   "source": [
    "dcd.describe_raw()"
   ]
  },
  {
   "cell_type": "markdown",
   "metadata": {
    "pycharm": {
     "name": "#%% md\n"
    }
   },
   "source": [
    "* descriptive stats only for global map"
   ]
  },
  {
   "cell_type": "code",
   "execution_count": null,
   "metadata": {
    "pycharm": {
     "is_executing": false,
     "name": "#%%\n"
    }
   },
   "outputs": [],
   "source": [
    "dcd.describe_raw(global_only=True)"
   ]
  },
  {
   "cell_type": "markdown",
   "metadata": {
    "pycharm": {
     "name": "#%% md\n"
    }
   },
   "source": [
    "## Simple Plots\n",
    "\n",
    "todo: synchronize color coding!\n",
    "\n",
    "\n",
    "### Node 3(...:04) Plots\n",
    "\n",
    "* plot1: Map seen from Node 3(...:04) GREEN  at [15.0, 141.0] [same place as pink 7(...:08)]\n",
    "* plot2: Node placement taken form global state (ground truth)\n",
    "* plot3: total count of nodes per simtime. \n",
    "  * Blue line is ground truth (7 Nodes)\n",
    "  * Red Node 3(...:04) is the current node.\n",
    "  * 'Old' measures are counted. This is the reason for the growing number of nodes.\n"
   ]
  },
  {
   "cell_type": "code",
   "execution_count": null,
   "metadata": {
    "pycharm": {
     "is_executing": false,
     "name": "#%%\n"
    }
   },
   "outputs": [],
   "source": [
    "p1 = dcd.plot_summary(4.0, 3, \"(data from all 'ages')\")"
   ]
  },
  {
   "cell_type": "code",
   "execution_count": null,
   "metadata": {},
   "outputs": [],
   "source": [
    "p = dcd.plot_density_map(12, 5, make_interactive=True\n",
    ")"
   ]
  },
  {
   "cell_type": "markdown",
   "metadata": {},
   "source": [
    "### Node 3(...:04) Plots at 12.0 second\n",
    "* density shows 'path'\n",
    "* look at Node 6(...:07) brown \n",
    "  * Node 3 has one measurment [84.0, 84.0],\n",
    "  * and 3 additional measurment form Node 2(...:03) orange.\n",
    "   "
   ]
  },
  {
   "cell_type": "code",
   "execution_count": null,
   "metadata": {
    "pycharm": {
     "is_executing": false
    }
   },
   "outputs": [],
   "source": [
    "#p2 = dcd.plot2(12.0, 3, \"(data from all 'ages')\")\n",
    "p2 = dcd.plot_count()"
   ]
  },
  {
   "cell_type": "code",
   "execution_count": null,
   "metadata": {
    "pycharm": {
     "is_executing": false
    }
   },
   "outputs": [],
   "source": [
    "pd.set_option('display.max_rows', 1000)\n",
    "idx = pd.IndexSlice\n",
    "node_id = 2\n",
    "sel = idx[2, 12:18, :, :]\n",
    "col = (\"count\", \"measured_t\", \"received_t\", \"source\", \"own_cell\")"
   ]
  },
  {
   "cell_type": "code",
   "execution_count": null,
   "metadata": {},
   "outputs": [],
   "source": [
    "df = dcd.raw2d.loc[sel, col]\n",
    "df.groupby(\"simtime\").sum()[\"count\"].to_frame()"
   ]
  },
  {
   "cell_type": "code",
   "execution_count": null,
   "metadata": {},
   "outputs": [],
   "source": [
    "# node 5 is the current node\n",
    "df.groupby([\"simtime\", \"source\"]).sum()[\"count\"].to_frame()"
   ]
  },
  {
   "cell_type": "code",
   "execution_count": null,
   "metadata": {},
   "outputs": [],
   "source": [
    "ret = dcd.plot_density_map_interactive()"
   ]
  },
  {
   "cell_type": "code",
   "execution_count": null,
   "metadata": {},
   "outputs": [],
   "source": [
    "mask = (df[\"count\"] == 0) \n",
    "#df.loc[mask]\n",
    "df"
   ]
  },
  {
   "cell_type": "code",
   "execution_count": null,
   "metadata": {},
   "outputs": [],
   "source": [
    "idx2 = pd.IndexSlice\n",
    "sel = idx[12:14, :]\n",
    "dcd.glb_loc_df.loc[sel]"
   ]
  }
 ],
 "metadata": {
  "kernelspec": {
   "display_name": "Python 3",
   "language": "python",
   "name": "python3"
  },
  "language_info": {
   "codemirror_mode": {
    "name": "ipython",
    "version": 3
   },
   "file_extension": ".py",
   "mimetype": "text/x-python",
   "name": "python",
   "nbconvert_exporter": "python",
   "pygments_lexer": "ipython3",
   "version": "3.8.0"
  },
  "pycharm": {
   "stem_cell": {
    "cell_type": "raw",
    "metadata": {
     "collapsed": false
    },
    "source": []
   }
  }
 },
 "nbformat": 4,
 "nbformat_minor": 1
}
